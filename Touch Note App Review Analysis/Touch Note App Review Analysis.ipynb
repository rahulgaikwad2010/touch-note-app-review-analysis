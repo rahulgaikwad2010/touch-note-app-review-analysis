{
 "cells": [
  {
   "cell_type": "markdown",
   "metadata": {},
   "source": [
    "<center><h1>Touch Note App Review Analysis</h1></center>"
   ]
  },
  {
   "cell_type": "markdown",
   "metadata": {},
   "source": [
    "<B>Name -</B> Rahul Gaikwad\n",
    "\n",
    "<B>Date -</B> March 1, 2021\n",
    "\n",
    "<B>Position -</B> Machine Learning Engineer\n",
    "\n",
    "<B>Interview Round -</B> 2 - Machine Learning Task\n",
    "\n",
    "<B>Email Id -</B> rahul.gaikwad2010@gmail.com\n",
    "\n",
    "<B>Mobile No. -</B> +91 9326117192\n",
    "\n",
    "<hr/>\n",
    "\n",
    "### Introduction\n",
    "\n",
    "Sentiment analysis on reviews of android apps on Google Play-Store.\n",
    "\n",
    "Suppose you want user reviews to be classified as positive and negative. Sentiment Analysis is a popular job to be performed by data scientists. This is a simple guide using Scikit-learn Classifier to create a Google Play store reviews classifier (Sentiment Analysis) in Python.\n",
    "\n",
    "<hr/>\n",
    "\n",
    "### Problem Statement\n",
    "\n",
    "I have built a solution to classify <b>Touch Note App</b> reviews, the proposed solution is a combination of ML models performing classification task and giving max voted prediction as an output.\n",
    "\n",
    "Combined approach guaranteed the accuracy around <b>85%</b>.\n",
    "\n",
    "<hr/>"
   ]
  },
  {
   "cell_type": "markdown",
   "metadata": {},
   "source": [
    "### Import necessary libraries"
   ]
  },
  {
   "cell_type": "code",
   "execution_count": 1,
   "metadata": {},
   "outputs": [],
   "source": [
    "# Data representation and computation\n",
    "import pandas as pd  \n",
    "import numpy as np  \n",
    "\n",
    "# Graph plotting\n",
    "import matplotlib.pyplot as plt  \n",
    "import seaborn as seabornInstance\n",
    "\n",
    "# Data splitting, feature engg., and pipeline to train machine learning models\n",
    "from sklearn.model_selection import train_test_split \n",
    "from sklearn import preprocessing\n",
    "from sklearn.feature_extraction.text import CountVectorizer, TfidfVectorizer, TfidfTransformer\n",
    "from sklearn.pipeline import Pipeline\n",
    "from sklearn import metrics\n",
    "from sklearn.utils import shuffle\n",
    "from sklearn.metrics import classification_report\n",
    "from sklearn.metrics import accuracy_score, confusion_matrix\n",
    "\n",
    "# Machine learning models\n",
    "from sklearn.linear_model import SGDClassifier\n",
    "from sklearn.linear_model import LogisticRegression\n",
    "from sklearn.naive_bayes import MultinomialNB\n",
    "\n",
    "# Miscellaneous\n",
    "import pickle\n",
    "import re\n",
    "import pylab as py \n",
    "import warnings\n",
    "import calendar\n",
    "import string\n",
    "import json as js\n",
    "import wordninja as wn\n",
    "\n",
    "# import dill\n",
    "import logging\n",
    "\n",
    "# NLP\n",
    "import nltk\n",
    "from nltk.corpus import stopwords\n",
    "from nltk.tokenize import punkt\n",
    "from nltk.tokenize import word_tokenize\n",
    "from nltk.stem import WordNetLemmatizer\n",
    "from nltk.stem import WordNetLemmatizer, SnowballStemmer\n",
    "from nltk.stem.porter import *\n",
    "from gensim.utils import simple_preprocess\n",
    "from gensim.parsing.preprocessing import STOPWORDS\n",
    "\n",
    "SENT_DETECTOR = nltk.data.load('tokenizers/punkt/english.pickle')\n",
    "REPLACE_BY_SPACE_RE = re.compile('[/(){}\\[\\]\\|@,;]')\n",
    "BAD_SYMBOLS_RE = re.compile('[^09a-z #+_]')\n",
    "lemmatizer = WordNetLemmatizer()\n",
    "\n",
    "# Declaration\n",
    "warnings.filterwarnings('ignore')\n",
    "%precision 2\n",
    "%matplotlib inline\n",
    "seabornInstance.set(font_scale=1)"
   ]
  },
  {
   "cell_type": "markdown",
   "metadata": {},
   "source": [
    "### Load Data"
   ]
  },
  {
   "cell_type": "code",
   "execution_count": 2,
   "metadata": {},
   "outputs": [],
   "source": [
    "ldf_training_dataset = pd.read_csv(\"data/google_play_store_apps_reviews_training.csv\", encoding='latin', index_col=False)"
   ]
  },
  {
   "cell_type": "code",
   "execution_count": 3,
   "metadata": {},
   "outputs": [
    {
     "name": "stdout",
     "output_type": "stream",
     "text": [
      "Total data points: 891\n"
     ]
    }
   ],
   "source": [
    "ldf_training_dataset = ldf_training_dataset[[\"polarity\",\"review\"]]\n",
    "print(\"Total data points: \"+str(len(ldf_training_dataset.polarity)))"
   ]
  },
  {
   "cell_type": "code",
   "execution_count": 4,
   "metadata": {},
   "outputs": [
    {
     "data": {
      "text/html": [
       "<div>\n",
       "<style scoped>\n",
       "    .dataframe tbody tr th:only-of-type {\n",
       "        vertical-align: middle;\n",
       "    }\n",
       "\n",
       "    .dataframe tbody tr th {\n",
       "        vertical-align: top;\n",
       "    }\n",
       "\n",
       "    .dataframe thead th {\n",
       "        text-align: right;\n",
       "    }\n",
       "</style>\n",
       "<table border=\"1\" class=\"dataframe\">\n",
       "  <thead>\n",
       "    <tr style=\"text-align: right;\">\n",
       "      <th></th>\n",
       "      <th>polarity</th>\n",
       "      <th>review</th>\n",
       "    </tr>\n",
       "  </thead>\n",
       "  <tbody>\n",
       "    <tr>\n",
       "      <th>0</th>\n",
       "      <td>negative</td>\n",
       "      <td>privacy at least put some option appear offli...</td>\n",
       "    </tr>\n",
       "    <tr>\n",
       "      <th>1</th>\n",
       "      <td>negative</td>\n",
       "      <td>messenger issues ever since the last update, ...</td>\n",
       "    </tr>\n",
       "    <tr>\n",
       "      <th>2</th>\n",
       "      <td>negative</td>\n",
       "      <td>profile any time my wife or anybody has more ...</td>\n",
       "    </tr>\n",
       "    <tr>\n",
       "      <th>3</th>\n",
       "      <td>negative</td>\n",
       "      <td>the new features suck for those of us who don...</td>\n",
       "    </tr>\n",
       "    <tr>\n",
       "      <th>4</th>\n",
       "      <td>negative</td>\n",
       "      <td>forced reload on uploading pic on replying co...</td>\n",
       "    </tr>\n",
       "  </tbody>\n",
       "</table>\n",
       "</div>"
      ],
      "text/plain": [
       "   polarity                                             review\n",
       "0  negative   privacy at least put some option appear offli...\n",
       "1  negative   messenger issues ever since the last update, ...\n",
       "2  negative   profile any time my wife or anybody has more ...\n",
       "3  negative   the new features suck for those of us who don...\n",
       "4  negative   forced reload on uploading pic on replying co..."
      ]
     },
     "execution_count": 4,
     "metadata": {},
     "output_type": "execute_result"
    }
   ],
   "source": [
    "ldf_training_dataset.head()"
   ]
  },
  {
   "cell_type": "code",
   "execution_count": 5,
   "metadata": {},
   "outputs": [
    {
     "data": {
      "text/plain": [
       "<matplotlib.axes._subplots.AxesSubplot at 0x1e5b200cec8>"
      ]
     },
     "execution_count": 5,
     "metadata": {},
     "output_type": "execute_result"
    },
    {
     "data": {
      "image/png": "[encoded data removed]",
      "text/plain": [
       "<Figure size 432x288 with 1 Axes>"
      ]
     },
     "metadata": {},
     "output_type": "display_data"
    }
   ],
   "source": [
    "ldf_training_dataset['polarity'].value_counts().plot(kind=\"barh\")"
   ]
  },
  {
   "cell_type": "markdown",
   "metadata": {},
   "source": [
    "### Data Preprocessing"
   ]
  },
  {
   "cell_type": "code",
   "execution_count": 6,
   "metadata": {},
   "outputs": [],
   "source": [
    "class text_pre_processing:\n",
    "    def __init__(self):\n",
    "        self.punct = string.punctuation\n",
    "        self.stpwrds = set(stopwords.words('english'))\n",
    "        self.lem = WordNetLemmatizer()\n",
    "        self.snowballstem = SnowballStemmer('english')\n",
    "        self.contractions = js.load(open(\"data/Contraction.json\",'r')) \n",
    "\n",
    "    def data_cleaning(self, text):\n",
    "        try:\n",
    "            text = \" \".join(wn.split(text))\n",
    "            for word in text.split():\n",
    "                if word.lower() in self.contractions:\n",
    "                    text = text.replace(word, self.contractions[word.lower()])\n",
    "            tokens = word_tokenize(text)          \n",
    "            tokens = [token for token in tokens if token not in self.stpwrds]\n",
    "            Repair_tokens=[]\n",
    "            lemmatize_token =[]\n",
    "            for x in tokens:\n",
    "                index = [x.find(char) for char in x if char not in self.punct]\n",
    "                Repair_tokens.append(\"\".join([x[i] for i in index ]))\n",
    "            Repair_tokens\n",
    "            Repair_tokens = [x for x in Repair_tokens if not x.isdigit()]\n",
    "            Repair_tokens = [self.lem.lemmatize(t,pos = 'v') for t in Repair_tokens ]\n",
    "            Repair_tokens = [self.snowballstem.stem(t) for t in Repair_tokens]\n",
    "            text =  \" \".join(Repair_tokens)\n",
    "            return text\n",
    "        except:\n",
    "            print(text)\n",
    "    \n",
    "obj = text_pre_processing()"
   ]
  },
  {
   "cell_type": "code",
   "execution_count": 7,
   "metadata": {},
   "outputs": [],
   "source": [
    "ldf_training_dataset[\"CLEANED_REVIEW\"] = ldf_training_dataset.review.map(obj.data_cleaning)"
   ]
  },
  {
   "cell_type": "markdown",
   "metadata": {},
   "source": [
    "### Train Test & Validation Split"
   ]
  },
  {
   "cell_type": "code",
   "execution_count": 8,
   "metadata": {},
   "outputs": [],
   "source": [
    "X = ldf_training_dataset.CLEANED_REVIEW\n",
    "y = ldf_training_dataset.polarity\n",
    "\n",
    "my_tags = y"
   ]
  },
  {
   "cell_type": "code",
   "execution_count": 9,
   "metadata": {},
   "outputs": [],
   "source": [
    "X_train, X_test, y_train, y_test = train_test_split(X, y, test_size=0.2, stratify=y, random_state=123, shuffle=True)\n",
    "X_train, x_val, y_train, y_val = train_test_split(X_train, y_train, test_size=0.25, stratify=y_train, random_state=42, shuffle=True) "
   ]
  },
  {
   "cell_type": "markdown",
   "metadata": {},
   "source": [
    "### Frequency of selected classes "
   ]
  },
  {
   "cell_type": "code",
   "execution_count": 10,
   "metadata": {},
   "outputs": [
    {
     "data": {
      "text/plain": [
       "<matplotlib.axes._subplots.AxesSubplot at 0x1e5b7151f08>"
      ]
     },
     "execution_count": 10,
     "metadata": {},
     "output_type": "execute_result"
    },
    {
     "data": {
      "image/png": "[encoded data removed]",
      "text/plain": [
       "<Figure size 432x288 with 1 Axes>"
      ]
     },
     "metadata": {},
     "output_type": "display_data"
    }
   ],
   "source": [
    "y.value_counts().plot(kind=\"barh\")"
   ]
  },
  {
   "cell_type": "markdown",
   "metadata": {},
   "source": [
    "### Model selection and training"
   ]
  },
  {
   "cell_type": "markdown",
   "metadata": {},
   "source": [
    "##### 1. Define a model"
   ]
  },
  {
   "cell_type": "code",
   "execution_count": 11,
   "metadata": {},
   "outputs": [],
   "source": [
    "l_svm_uni = Pipeline([\n",
    "    ('vect',CountVectorizer(analyzer='word', ngram_range=(1, 1))),\n",
    "    ('tfidf',TfidfTransformer()),\n",
    "    ('clf',SGDClassifier(\n",
    "        loss='hinge',\n",
    "        penalty='l2',\n",
    "        alpha=1e-3,\n",
    "        random_state=42,\n",
    "        max_iter=5,\n",
    "        tol=None\n",
    "    ))\n",
    "])\n",
    "\n",
    "log_reg_uni = Pipeline([\n",
    "    ('vect',CountVectorizer(analyzer='word', ngram_range=(1, 1))),\n",
    "    ('tfidf',TfidfTransformer()),\n",
    "    ('clf',LogisticRegression(\n",
    "        n_jobs=1,\n",
    "        C=1e5\n",
    "    ))\n",
    "])\n",
    "\n",
    "nb_uni = Pipeline([\n",
    "    ('vect',CountVectorizer(analyzer='word', ngram_range=(1, 1))),\n",
    "    ('tfidf',TfidfTransformer()),\n",
    "    ('clf',MultinomialNB())\n",
    "])"
   ]
  },
  {
   "cell_type": "markdown",
   "metadata": {},
   "source": [
    "##### 2. Fit a model"
   ]
  },
  {
   "cell_type": "code",
   "execution_count": 12,
   "metadata": {},
   "outputs": [],
   "source": [
    "lsvm_uni_model = l_svm_uni.fit(X_train, y_train)\n",
    "log_reg_uni_model = log_reg_uni.fit(X_train, y_train)\n",
    "nb_uni_model = nb_uni.fit(X_train, y_train)"
   ]
  },
  {
   "cell_type": "markdown",
   "metadata": {},
   "source": [
    "##### 3. Make predictions"
   ]
  },
  {
   "cell_type": "code",
   "execution_count": 13,
   "metadata": {},
   "outputs": [],
   "source": [
    "lsvm_uni_y_pred = lsvm_uni_model.predict(X_test)\n",
    "log_reg_uni_y_pred = log_reg_uni_model.predict(X_test)\n",
    "nb_uni_y_pred = nb_uni_model.predict(X_test)\n",
    "\n",
    "lsvm_uni_y_val_pred = lsvm_uni_model.predict(x_val)\n",
    "log_reg_uni_y_val_pred = log_reg_uni_model.predict(x_val)\n",
    "nb_uni_y_val_pred = nb_uni_model.predict(x_val)"
   ]
  },
  {
   "cell_type": "markdown",
   "metadata": {},
   "source": [
    "##### 4. Save to local storage"
   ]
  },
  {
   "cell_type": "code",
   "execution_count": 14,
   "metadata": {},
   "outputs": [],
   "source": [
    "pickle.dump(lsvm_uni_model, open(\"models/svm.sav\", 'wb'))\n",
    "pickle.dump(log_reg_uni_model, open(\"models/log_reg.sav\", 'wb'))\n",
    "pickle.dump(nb_uni_model, open(\"models/naive_bayes.sav\", 'wb'))"
   ]
  },
  {
   "cell_type": "markdown",
   "metadata": {},
   "source": [
    "##### 5. Training Accuracy"
   ]
  },
  {
   "cell_type": "code",
   "execution_count": 15,
   "metadata": {},
   "outputs": [
    {
     "name": "stdout",
     "output_type": "stream",
     "text": [
      "- SVM\n",
      "Accuracy 0.8268156424581006\n",
      "\n",
      "- LOGISTIC REGRESSION\n",
      "Accuracy 0.7988826815642458\n",
      "\n",
      "- NAIVE BAYES\n",
      "Accuracy 0.7262569832402235\n"
     ]
    }
   ],
   "source": [
    "print(\"- SVM\")\n",
    "print('Accuracy', str(metrics.accuracy_score(lsvm_uni_y_pred,y_test)))\n",
    "\n",
    "print(\"\\n- LOGISTIC REGRESSION\")\n",
    "print('Accuracy', str(metrics.accuracy_score(log_reg_uni_y_pred,y_test)))\n",
    "\n",
    "print(\"\\n- NAIVE BAYES\")\n",
    "print('Accuracy', str(metrics.accuracy_score(nb_uni_y_pred,y_test)))"
   ]
  },
  {
   "cell_type": "markdown",
   "metadata": {},
   "source": [
    "##### 6. Testing Accuracy"
   ]
  },
  {
   "cell_type": "code",
   "execution_count": 16,
   "metadata": {},
   "outputs": [
    {
     "name": "stdout",
     "output_type": "stream",
     "text": [
      " - SVM\n",
      "Accuracy 0.8370786516853933\n",
      "\n",
      " - LOGISTIC REGRESSION\n",
      "Accuracy 0.8202247191011236\n",
      "\n",
      " - NAIVE BAYES\n",
      "Accuracy 0.7528089887640449\n"
     ]
    }
   ],
   "source": [
    "print(\" - SVM\")\n",
    "print('Accuracy', str(metrics.accuracy_score(lsvm_uni_y_val_pred,y_val)))\n",
    "\n",
    "print(\"\\n - LOGISTIC REGRESSION\")\n",
    "print('Accuracy', str(metrics.accuracy_score(log_reg_uni_y_val_pred,y_val)))\n",
    "\n",
    "print(\"\\n - NAIVE BAYES\")\n",
    "print('Accuracy', str(metrics.accuracy_score(nb_uni_y_val_pred,y_val)))"
   ]
  },
  {
   "cell_type": "markdown",
   "metadata": {},
   "source": [
    "##### 7. Classification Report"
   ]
  },
  {
   "cell_type": "code",
   "execution_count": 17,
   "metadata": {
    "scrolled": false
   },
   "outputs": [
    {
     "name": "stdout",
     "output_type": "stream",
     "text": [
      "\n",
      "- SVM\n",
      "              precision    recall  f1-score   support\n",
      "\n",
      "    negative       0.83      0.92      0.87       117\n",
      "    positive       0.82      0.65      0.72        62\n",
      "\n",
      "    accuracy                           0.83       179\n",
      "   macro avg       0.82      0.78      0.80       179\n",
      "weighted avg       0.83      0.83      0.82       179\n",
      "\n",
      "\n",
      "- LOGISTIC REGRESSION\n",
      "              precision    recall  f1-score   support\n",
      "\n",
      "    negative       0.82      0.89      0.85       117\n",
      "    positive       0.75      0.63      0.68        62\n",
      "\n",
      "    accuracy                           0.80       179\n",
      "   macro avg       0.78      0.76      0.77       179\n",
      "weighted avg       0.80      0.80      0.79       179\n",
      "\n",
      "\n",
      "- NAIVE BAYES\n",
      "              precision    recall  f1-score   support\n",
      "\n",
      "    negative       0.70      1.00      0.83       117\n",
      "    positive       1.00      0.21      0.35        62\n",
      "\n",
      "    accuracy                           0.73       179\n",
      "   macro avg       0.85      0.60      0.59       179\n",
      "weighted avg       0.81      0.73      0.66       179\n",
      "\n"
     ]
    }
   ],
   "source": [
    "print(\"\\n- SVM\")\n",
    "print(classification_report(y_test,lsvm_uni_y_pred, labels=list(set(my_tags))))\n",
    "\n",
    "print(\"\\n- LOGISTIC REGRESSION\")\n",
    "print(classification_report(y_test,log_reg_uni_y_pred, labels=list(set(my_tags))))\n",
    "\n",
    "print(\"\\n- NAIVE BAYES\")\n",
    "print(classification_report(y_test,nb_uni_y_pred, labels=list(set(my_tags))))"
   ]
  },
  {
   "cell_type": "markdown",
   "metadata": {},
   "source": [
    "##### 8. Confusion Matrix"
   ]
  },
  {
   "cell_type": "code",
   "execution_count": 18,
   "metadata": {},
   "outputs": [],
   "source": [
    "llst_all_model_accuracy = [\n",
    "                           [[lsvm_uni_y_pred,y_test],[lsvm_uni_y_val_pred,y_val]],\n",
    "                           [[log_reg_uni_y_val_pred,y_val],[log_reg_uni_y_val_pred,y_val]],\n",
    "                           [[nb_uni_y_pred,y_test],[nb_uni_y_val_pred,y_val]]\n",
    "                         ]"
   ]
  },
  {
   "cell_type": "code",
   "execution_count": 19,
   "metadata": {
    "scrolled": false
   },
   "outputs": [
    {
     "data": {
      "image/png": "[encoded data removed]",
      "text/plain": [
       "<Figure size 720x720 with 12 Axes>"
      ]
     },
     "metadata": {},
     "output_type": "display_data"
    }
   ],
   "source": [
    "#create subplot figure with having two side by side plots\n",
    "fig, axes = plt.subplots(nrows=len(llst_all_model_accuracy),ncols=2,figsize=(10,10))\n",
    "\n",
    "lint_global_idx = 0\n",
    "for i, llst_all_train_test_accuracies in enumerate(llst_all_model_accuracy):\n",
    "    for j, llst_all_train_test_accuracy in enumerate(llst_all_train_test_accuracies):\n",
    "        cm = confusion_matrix(llst_all_train_test_accuracy[1], llst_all_train_test_accuracy[0], \n",
    "                              labels=list(set(my_tags)))\n",
    "        df_cm = pd.DataFrame(cm, index = list(set(my_tags)),\n",
    "                  columns = list(set(my_tags)))\n",
    "        cmn = cm.astype('float') / cm.sum(axis=1)[:, np.newaxis]\n",
    "        df_cm = pd.DataFrame(cmn, index=df_cm.index, columns=df_cm.columns)\n",
    "        seabornInstance.heatmap(df_cm, annot=True, fmt='.2f', \n",
    "                                cmap = 'Greens', \n",
    "                                ax=axes.flat[lint_global_idx])\n",
    "        lint_global_idx = lint_global_idx+1"
   ]
  },
  {
   "cell_type": "markdown",
   "metadata": {},
   "source": [
    "##### 9. Train on K-folds"
   ]
  },
  {
   "cell_type": "code",
   "execution_count": 20,
   "metadata": {},
   "outputs": [],
   "source": [
    "from sklearn import model_selection\n",
    "kfold = model_selection.KFold(n_splits=10, random_state=7)"
   ]
  },
  {
   "cell_type": "code",
   "execution_count": 21,
   "metadata": {},
   "outputs": [],
   "source": [
    "result_uni_lsvm = model_selection.cross_val_score(lsvm_uni_model, X_train, y_train, cv=kfold, scoring=\"accuracy\")\n",
    "result_uni_log_reg = model_selection.cross_val_score(log_reg_uni_model, X_train, y_train, cv=kfold, scoring=\"accuracy\")\n",
    "result_uni_naive_bayes = model_selection.cross_val_score(nb_uni_model, X_train, y_train, cv=kfold, scoring=\"accuracy\")"
   ]
  },
  {
   "cell_type": "code",
   "execution_count": 22,
   "metadata": {},
   "outputs": [
    {
     "name": "stdout",
     "output_type": "stream",
     "text": [
      "0.7846960167714886 0.042730455076947664\n",
      "0.7734800838574424 0.05267625581712689\n",
      "0.7170510132774284 0.05262820082344598\n"
     ]
    }
   ],
   "source": [
    "print(result_uni_lsvm.mean(),result_uni_lsvm.std())\n",
    "print(result_uni_log_reg.mean(),result_uni_log_reg.std())\n",
    "print(result_uni_naive_bayes.mean(),result_uni_naive_bayes.std())"
   ]
  },
  {
   "cell_type": "markdown",
   "metadata": {},
   "source": [
    "### Conclusion"
   ]
  },
  {
   "cell_type": "markdown",
   "metadata": {},
   "source": [
    "#### Train Test Validation Split\n",
    "<ol>\n",
    " <strong><li>SVM: 0.83</li></strong>\n",
    " <li>Logistic Regression: 0.82</li>\n",
    " <li>Naive Bayes: 0.75</li>\n",
    "</ol>\n",
    "\n",
    "\n",
    "#### Using 10-folds:\n",
    "<ol>\n",
    " <strong><li>SVM: 0.78</li></strong>\n",
    " <li>Logistic Regression: 0.77</li>\n",
    " <li>Naive Bayes: 0.71</li>\n",
    "</ol>"
   ]
  },
  {
   "cell_type": "markdown",
   "metadata": {},
   "source": [
    "<h1><center>End Here</center></h1>"
   ]
  }
 ],
 "metadata": {
  "kernelspec": {
   "display_name": "Python 3",
   "language": "python",
   "name": "python3"
  },
  "language_info": {
   "codemirror_mode": {
    "name": "ipython",
    "version": 3
   },
   "file_extension": ".py",
   "mimetype": "text/x-python",
   "name": "python",
   "nbconvert_exporter": "python",
   "pygments_lexer": "ipython3",
   "version": "3.7.6"
  }
 },
 "nbformat": 4,
 "nbformat_minor": 2
}
